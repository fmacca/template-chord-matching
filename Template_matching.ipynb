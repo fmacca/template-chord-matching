{
 "cells": [
  {
   "cell_type": "markdown",
   "metadata": {},
   "source": [
    "# Template Matching Chord Recognition, *Francesco Maccarini*\n",
    "\n",
    "## Project for the *Audio Signals* course @ Polimi\n",
    "\n",
    "In this notebook we aim at providing a python implementation of the chord recognition algorithm based on template matching, as presented in: \"Müller, Meinard. (2015). *Fundamentals of Music Processing.* 10.1007/978-3-319-21945-5.\""
   ]
  },
  {
   "cell_type": "markdown",
   "metadata": {},
   "source": [
    "### Introduction\n",
    "\n",
    "We start by constructing the templates for major and minor triads. In chroma representation, every chord is characterized by a 1 in correspndence to those notes that are present in the chord and a 0 in correspondence to those notes that are not present in the chord.\n",
    "\n",
    "Remember that chroma values are mapped to notes as \n",
    "\\[ C, C#, D, D#, E, F, F#, G, G#, A, A#, B \\]\n",
    "\n",
    "***\n",
    "\n",
    "**Example:** C major chord is composed by the notes C, E and G so its chorma representation will be \\[ 1, 0, 0, 0, 1, 0, 0, 1, 0, 0, 0, 0 \\]"
   ]
  },
  {
   "cell_type": "code",
   "execution_count": null,
   "metadata": {},
   "outputs": [],
   "source": [
    "triads_labs=[\"C\",\"C#\",\"D\",\"D#\",\"E\",\"F\",\"F#\",\"G\",\"G#\",\"A\",\"A#\",\"B\",\"Cm\",\"C#m\",\"Dm\",\"D#m\",\"Em\",\"Fm\",\"F#m\",\"Gm\",\"G#m\",\"Am\",\"A#m\",\"Bm\"]\n",
    "chroma_labs=[\"C\",\"C#\",\"D\",\"D#\",\"E\",\"F\",\"F#\",\"G\",\"G#\",\"A\",\"A#\",\"B\"]\n",
    "print(\"Labels for possible triads:\")\n",
    "print(triads_labs)\n",
    "print(\"Major triads:\")\n",
    "print(triads_labs[0:12])\n",
    "print(\"Minor triads:\")\n",
    "print(triads_labs[12:])\n",
    "print(\"Chroma values (notes):\")\n",
    "print(chroma_labs)"
   ]
  },
  {
   "cell_type": "code",
   "execution_count": null,
   "metadata": {},
   "outputs": [],
   "source": [
    "import numpy as np"
   ]
  },
  {
   "cell_type": "code",
   "execution_count": null,
   "metadata": {},
   "outputs": [],
   "source": [
    "#create chroma templates for chords\n",
    "chords=np.zeros(shape=(12,len(triads_labs)))\n",
    "for i in range(chords.shape[1]): #loop on possible triads\n",
    "    if(i<12):\n",
    "        chords[(0+i)%12,i]=1\n",
    "        chords[(4+i)%12,i]=1\n",
    "        chords[(7+i)%12,i]=1\n",
    "    if(i>=12):\n",
    "        chords[(0+i)%12,i]=1\n",
    "        chords[(3+i)%12,i]=1\n",
    "        chords[(7+i)%12,i]=1\n",
    "print(chords)"
   ]
  },
  {
   "cell_type": "code",
   "execution_count": null,
   "metadata": {},
   "outputs": [],
   "source": [
    "import matplotlib.pyplot as plt\n",
    "import librosa.display as dspl"
   ]
  },
  {
   "cell_type": "code",
   "execution_count": null,
   "metadata": {},
   "outputs": [],
   "source": [
    "plt.figure()\n",
    "dspl.specshow(chords, y_axis='chroma', x_axis='time')\n",
    "plt.title(\"Chroma representation of major and minor triads\")"
   ]
  },
  {
   "cell_type": "markdown",
   "metadata": {},
   "source": [
    "### Load audio file"
   ]
  },
  {
   "cell_type": "code",
   "execution_count": null,
   "metadata": {},
   "outputs": [],
   "source": [
    "from tkinter import filedialog\n",
    "from tkinter import *\n",
    "\n",
    "from librosa import *\n",
    "\n",
    "import ntpath"
   ]
  },
  {
   "cell_type": "code",
   "execution_count": null,
   "metadata": {},
   "outputs": [],
   "source": [
    "# Select the file to analyze\n",
    "root = Tk()\n",
    "root.filename =  filedialog.askopenfilename(initialdir = \"/\",title = \"Select an audio file\",filetypes = ((\"all files\",\"*.*\"),(\"jpeg files\",\"*.jpg\")))\n",
    "if(root.filename):\n",
    "    print (\"Selected file path:\",root.filename)\n",
    "    name=ntpath.basename(root.filename)\n",
    "    print (\"Selected file name:\",name)\n",
    "else:\n",
    "    print (\"Please select a file!\")\n",
    "root.destroy()"
   ]
  },
  {
   "cell_type": "code",
   "execution_count": null,
   "metadata": {},
   "outputs": [],
   "source": [
    "# loading file with librosa\n",
    "music,sr=load(root.filename)\n",
    "\n",
    "# WARNING: You need to have ffmpeg insalled in order to open mp3 files\n",
    "# If you are using conda/anaconda runnig the following in the command prompt should fix the problem:\n",
    "# conda install -c conda-forge ffmpeg\n",
    "\n",
    "print(\"Sampling rate:\",sr)"
   ]
  },
  {
   "cell_type": "code",
   "execution_count": null,
   "metadata": {},
   "outputs": [],
   "source": [
    "import matplotlib.pyplot as plt\n",
    "import librosa.display as dspl"
   ]
  },
  {
   "cell_type": "code",
   "execution_count": null,
   "metadata": {},
   "outputs": [],
   "source": [
    "plt.figure(figsize=(16.4, 2.4))\n",
    "dspl.waveplot(music,sr)\n",
    "plt.title(\"Opened music file: \"+name)"
   ]
  },
  {
   "cell_type": "code",
   "execution_count": null,
   "metadata": {},
   "outputs": [],
   "source": [
    "# Computing chromagram\n",
    "import librosa.feature as feat\n",
    "chroma=feat.chroma_cens(y=music, sr=sr)"
   ]
  },
  {
   "cell_type": "code",
   "execution_count": null,
   "metadata": {},
   "outputs": [],
   "source": [
    "print(chroma)\n",
    "print(chroma.shape)"
   ]
  },
  {
   "cell_type": "code",
   "execution_count": null,
   "metadata": {},
   "outputs": [],
   "source": [
    "plt.figure(figsize=(16.4, 9.6))\n",
    "plt.subplot(2,1,1)\n",
    "dspl.waveplot(music,sr)\n",
    "plt.title(\"Opened music file: \"+name)\n",
    "plt.subplot(2,1,2)\n",
    "dspl.specshow(chroma, y_axis='chroma', x_axis='time')\n",
    "plt.title(\"Chroma representation of \"+name)"
   ]
  },
  {
   "cell_type": "code",
   "execution_count": null,
   "metadata": {},
   "outputs": [],
   "source": []
  }
 ],
 "metadata": {
  "kernelspec": {
   "display_name": "Python 3",
   "language": "python",
   "name": "python3"
  },
  "language_info": {
   "codemirror_mode": {
    "name": "ipython",
    "version": 3
   },
   "file_extension": ".py",
   "mimetype": "text/x-python",
   "name": "python",
   "nbconvert_exporter": "python",
   "pygments_lexer": "ipython3",
   "version": "3.7.6"
  }
 },
 "nbformat": 4,
 "nbformat_minor": 4
}
