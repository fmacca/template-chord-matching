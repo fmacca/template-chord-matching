{
 "cells": [
  {
   "cell_type": "markdown",
   "metadata": {},
   "source": [
    "We provide a function that matches any chord formatted in the \"right\" way into a basic major/minor triad.\n",
    "Notice that diminished chords are mapped to minor and augmented chords are mapped to major"
   ]
  },
  {
   "cell_type": "code",
   "execution_count": 1,
   "metadata": {},
   "outputs": [],
   "source": [
    "triads_labs=[\"C\",\"C#\",\"D\",\"D#\",\"E\",\"F\",\"F#\",\"G\",\"G#\",\"A\",\"A#\",\"B\",\"C:min\",\"C#:min\",\"D:min\",\"D#:min\",\"E:min\",\"F:min\",\"F#:min\",\"G:min\",\"G#:min\",\"A:min\",\"A#:min\",\"B:min\"]"
   ]
  },
  {
   "cell_type": "code",
   "execution_count": 2,
   "metadata": {},
   "outputs": [],
   "source": [
    "def chord_to_triad(lab):\n",
    "    triads_labs=[\"C\",\"C#\",\"D\",\"D#\",\"E\",\"F\",\"F#\",\"G\",\"G#\",\"A\",\"A#\",\"B\",\"C:min\",\"C#:min\",\"D:min\",\"D#:min\",\"E:min\",\"F:min\",\"F#:min\",\"G:min\",\"G#:min\",\"A:min\",\"A#:min\",\"B:min\"]\n",
    "    separated_lab=lab.split(\":\")\n",
    "    root=separated_lab[0]\n",
    "    if separated_lab[1][:3]==\"min\" or separated_lab[1][:3]==\"dim\":\n",
    "        return triads_labs.index(root+\":min\")\n",
    "    else:\n",
    "        return triads_labs.index(root)\n",
    "    "
   ]
  },
  {
   "cell_type": "code",
   "execution_count": 3,
   "metadata": {},
   "outputs": [
    {
     "name": "stdout",
     "output_type": "stream",
     "text": [
      "G:dim6 19 G:min\n"
     ]
    }
   ],
   "source": [
    "lab=\"G:dim6\"\n",
    "print(lab,chord_to_triad(lab),triads_labs[chord_to_triad(lab)])"
   ]
  },
  {
   "cell_type": "code",
   "execution_count": 4,
   "metadata": {},
   "outputs": [
    {
     "data": {
      "text/plain": [
       "'min'"
      ]
     },
     "execution_count": 4,
     "metadata": {},
     "output_type": "execute_result"
    }
   ],
   "source": [
    "\"C:min(7)\".split(\":\")[1][:3]"
   ]
  },
  {
   "cell_type": "code",
   "execution_count": null,
   "metadata": {},
   "outputs": [],
   "source": []
  }
 ],
 "metadata": {
  "kernelspec": {
   "display_name": "Python 3",
   "language": "python",
   "name": "python3"
  },
  "language_info": {
   "codemirror_mode": {
    "name": "ipython",
    "version": 3
   },
   "file_extension": ".py",
   "mimetype": "text/x-python",
   "name": "python",
   "nbconvert_exporter": "python",
   "pygments_lexer": "ipython3",
   "version": "3.7.6"
  }
 },
 "nbformat": 4,
 "nbformat_minor": 4
}
