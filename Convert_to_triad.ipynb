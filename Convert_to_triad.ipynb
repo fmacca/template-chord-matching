{
 "cells": [
  {
   "cell_type": "markdown",
   "metadata": {},
   "source": [
    "We provide a function that matches any chord formatted in the \"right\" way into a basic major/minor triad.\n",
    "Notice that diminished chords are mapped to minor and augmented chords are mapped to major"
   ]
  },
  {
   "cell_type": "code",
   "execution_count": 3,
   "metadata": {},
   "outputs": [],
   "source": [
    "triads_labs=[\"C\",\"C#\",\"D\",\"D#\",\"E\",\"F\",\"F#\",\"G\",\"G#\",\"A\",\"A#\",\"B\",\"C:min\",\"C#:min\",\"D:min\",\"D#:min\",\"E:min\",\"F:min\",\"F#:min\",\"G:min\",\"G#:min\",\"A:min\",\"A#:min\",\"B:min\"]"
   ]
  },
  {
   "cell_type": "code",
   "execution_count": 17,
   "metadata": {},
   "outputs": [],
   "source": [
    "def omologous(root):\n",
    "    flats=[\"Cb\",\"Db\",\"Eb\",\"Fb\",\"Gb\",\"Ab\",\"Bb\"]\n",
    "    omo=[\"B\",\"C#\",\"D#\",\"E\",\"F#\",\"G#\",\"A#\"]\n",
    "    if root in flats:\n",
    "        return omo[flats.index(root)]\n",
    "    else:\n",
    "        return root"
   ]
  },
  {
   "cell_type": "code",
   "execution_count": 19,
   "metadata": {},
   "outputs": [],
   "source": [
    "def chord_to_triad(lab):\n",
    "    triads_labs=[\"C\",\"C#\",\"D\",\"D#\",\"E\",\"F\",\"F#\",\"G\",\"G#\",\"A\",\"A#\",\"B\",\"C:min\",\"C#:min\",\"D:min\",\"D#:min\",\"E:min\",\"F:min\",\"F#:min\",\"G:min\",\"G#:min\",\"A:min\",\"A#:min\",\"B:min\"]\n",
    "    separated_lab=lab.split(\":\")\n",
    "    n=len(separated_lab)\n",
    "    if n==1:\n",
    "        return omologous(lab.split(\"/\")[0])\n",
    "    else:\n",
    "        root=separated_lab[0]\n",
    "        if separated_lab[1][0].isdigit():\n",
    "            return omologous(root.split(\"/\")[0])\n",
    "        elif separated_lab[1][:3]==\"min\" or separated_lab[1][:3]==\"dim\":\n",
    "            return omologous(root.split(\"/\")[0])+\":min\"\n",
    "        else:\n",
    "            return omologous(root.split(\"/\")[0])\n",
    "    "
   ]
  },
  {
   "cell_type": "code",
   "execution_count": 21,
   "metadata": {},
   "outputs": [
    {
     "name": "stdout",
     "output_type": "stream",
     "text": [
      "Gb:dim6 F#:min\n"
     ]
    }
   ],
   "source": [
    "lab=\"Gb:dim6\"\n",
    "print(lab,chord_to_triad(lab))"
   ]
  },
  {
   "cell_type": "code",
   "execution_count": 22,
   "metadata": {},
   "outputs": [
    {
     "data": {
      "text/plain": [
       "'min'"
      ]
     },
     "execution_count": 22,
     "metadata": {},
     "output_type": "execute_result"
    }
   ],
   "source": [
    "\"Cb:min(7)\".split(\":\")[1][:3]"
   ]
  },
  {
   "cell_type": "code",
   "execution_count": 23,
   "metadata": {},
   "outputs": [
    {
     "name": "stdout",
     "output_type": "stream",
     "text": [
      "Gb F#\n"
     ]
    }
   ],
   "source": [
    "lab=\"Gb\"\n",
    "print(lab,chord_to_triad(lab))"
   ]
  },
  {
   "cell_type": "code",
   "execution_count": 26,
   "metadata": {},
   "outputs": [
    {
     "name": "stdout",
     "output_type": "stream",
     "text": [
      "Db/b7 C#\n"
     ]
    }
   ],
   "source": [
    "lab=\"Db/b7\"\n",
    "print(lab,chord_to_triad(lab))"
   ]
  },
  {
   "cell_type": "code",
   "execution_count": 27,
   "metadata": {},
   "outputs": [
    {
     "name": "stdout",
     "output_type": "stream",
     "text": [
      "Db C#\n"
     ]
    }
   ],
   "source": [
    "lab=\"Db\"\n",
    "print(lab,chord_to_triad(lab))"
   ]
  },
  {
   "cell_type": "code",
   "execution_count": null,
   "metadata": {},
   "outputs": [],
   "source": []
  }
 ],
 "metadata": {
  "kernelspec": {
   "display_name": "Python 3",
   "language": "python",
   "name": "python3"
  },
  "language_info": {
   "codemirror_mode": {
    "name": "ipython",
    "version": 3
   },
   "file_extension": ".py",
   "mimetype": "text/x-python",
   "name": "python",
   "nbconvert_exporter": "python",
   "pygments_lexer": "ipython3",
   "version": "3.7.6"
  }
 },
 "nbformat": 4,
 "nbformat_minor": 4
}
