{
 "cells": [
  {
   "cell_type": "code",
   "execution_count": 1,
   "metadata": {},
   "outputs": [],
   "source": [
    "import pandas as pd\n",
    "import numpy as np"
   ]
  },
  {
   "cell_type": "code",
   "execution_count": 2,
   "metadata": {},
   "outputs": [],
   "source": [
    "df=pd.read_csv(\"The Beatles dataset.csv\")"
   ]
  },
  {
   "cell_type": "code",
   "execution_count": 3,
   "metadata": {},
   "outputs": [
    {
     "data": {
      "text/html": [
       "<div>\n",
       "<style scoped>\n",
       "    .dataframe tbody tr th:only-of-type {\n",
       "        vertical-align: middle;\n",
       "    }\n",
       "\n",
       "    .dataframe tbody tr th {\n",
       "        vertical-align: top;\n",
       "    }\n",
       "\n",
       "    .dataframe thead th {\n",
       "        text-align: right;\n",
       "    }\n",
       "</style>\n",
       "<table border=\"1\" class=\"dataframe\">\n",
       "  <thead>\n",
       "    <tr style=\"text-align: right;\">\n",
       "      <th></th>\n",
       "      <th>C</th>\n",
       "      <th>C#</th>\n",
       "      <th>D</th>\n",
       "      <th>D#</th>\n",
       "      <th>E</th>\n",
       "      <th>F</th>\n",
       "      <th>F#</th>\n",
       "      <th>G</th>\n",
       "      <th>G#</th>\n",
       "      <th>A</th>\n",
       "      <th>A#</th>\n",
       "      <th>B</th>\n",
       "      <th>title</th>\n",
       "      <th>chords</th>\n",
       "    </tr>\n",
       "  </thead>\n",
       "  <tbody>\n",
       "    <tr>\n",
       "      <th>0</th>\n",
       "      <td>0.0</td>\n",
       "      <td>0.0</td>\n",
       "      <td>0.0</td>\n",
       "      <td>0.0</td>\n",
       "      <td>0.0</td>\n",
       "      <td>0.0</td>\n",
       "      <td>0.0</td>\n",
       "      <td>0.0</td>\n",
       "      <td>0.0</td>\n",
       "      <td>0.0</td>\n",
       "      <td>0.0</td>\n",
       "      <td>0.0</td>\n",
       "      <td>01 A Hard Day's Night</td>\n",
       "      <td>N</td>\n",
       "    </tr>\n",
       "    <tr>\n",
       "      <th>1</th>\n",
       "      <td>0.0</td>\n",
       "      <td>0.0</td>\n",
       "      <td>0.0</td>\n",
       "      <td>0.0</td>\n",
       "      <td>0.0</td>\n",
       "      <td>0.0</td>\n",
       "      <td>0.0</td>\n",
       "      <td>0.0</td>\n",
       "      <td>0.0</td>\n",
       "      <td>0.0</td>\n",
       "      <td>0.0</td>\n",
       "      <td>0.0</td>\n",
       "      <td>01 A Hard Day's Night</td>\n",
       "      <td>N</td>\n",
       "    </tr>\n",
       "    <tr>\n",
       "      <th>2</th>\n",
       "      <td>0.0</td>\n",
       "      <td>0.0</td>\n",
       "      <td>0.0</td>\n",
       "      <td>0.0</td>\n",
       "      <td>0.0</td>\n",
       "      <td>0.0</td>\n",
       "      <td>0.0</td>\n",
       "      <td>0.0</td>\n",
       "      <td>0.0</td>\n",
       "      <td>0.0</td>\n",
       "      <td>0.0</td>\n",
       "      <td>0.0</td>\n",
       "      <td>01 A Hard Day's Night</td>\n",
       "      <td>N</td>\n",
       "    </tr>\n",
       "    <tr>\n",
       "      <th>3</th>\n",
       "      <td>0.0</td>\n",
       "      <td>0.0</td>\n",
       "      <td>0.0</td>\n",
       "      <td>0.0</td>\n",
       "      <td>0.0</td>\n",
       "      <td>0.0</td>\n",
       "      <td>0.0</td>\n",
       "      <td>0.0</td>\n",
       "      <td>0.0</td>\n",
       "      <td>0.0</td>\n",
       "      <td>0.0</td>\n",
       "      <td>0.0</td>\n",
       "      <td>01 A Hard Day's Night</td>\n",
       "      <td>N</td>\n",
       "    </tr>\n",
       "    <tr>\n",
       "      <th>4</th>\n",
       "      <td>0.0</td>\n",
       "      <td>0.0</td>\n",
       "      <td>0.0</td>\n",
       "      <td>0.0</td>\n",
       "      <td>0.0</td>\n",
       "      <td>0.0</td>\n",
       "      <td>0.0</td>\n",
       "      <td>0.0</td>\n",
       "      <td>0.0</td>\n",
       "      <td>0.0</td>\n",
       "      <td>0.0</td>\n",
       "      <td>0.0</td>\n",
       "      <td>01 A Hard Day's Night</td>\n",
       "      <td>N</td>\n",
       "    </tr>\n",
       "  </tbody>\n",
       "</table>\n",
       "</div>"
      ],
      "text/plain": [
       "     C   C#    D   D#    E    F   F#    G   G#    A   A#    B  \\\n",
       "0  0.0  0.0  0.0  0.0  0.0  0.0  0.0  0.0  0.0  0.0  0.0  0.0   \n",
       "1  0.0  0.0  0.0  0.0  0.0  0.0  0.0  0.0  0.0  0.0  0.0  0.0   \n",
       "2  0.0  0.0  0.0  0.0  0.0  0.0  0.0  0.0  0.0  0.0  0.0  0.0   \n",
       "3  0.0  0.0  0.0  0.0  0.0  0.0  0.0  0.0  0.0  0.0  0.0  0.0   \n",
       "4  0.0  0.0  0.0  0.0  0.0  0.0  0.0  0.0  0.0  0.0  0.0  0.0   \n",
       "\n",
       "                   title chords  \n",
       "0  01 A Hard Day's Night      N  \n",
       "1  01 A Hard Day's Night      N  \n",
       "2  01 A Hard Day's Night      N  \n",
       "3  01 A Hard Day's Night      N  \n",
       "4  01 A Hard Day's Night      N  "
      ]
     },
     "execution_count": 3,
     "metadata": {},
     "output_type": "execute_result"
    }
   ],
   "source": [
    "df.head()"
   ]
  },
  {
   "cell_type": "code",
   "execution_count": 4,
   "metadata": {},
   "outputs": [],
   "source": [
    "titles=df.title.unique()"
   ]
  },
  {
   "cell_type": "code",
   "execution_count": 33,
   "metadata": {},
   "outputs": [
    {
     "name": "stdout",
     "output_type": "stream",
     "text": [
      "12 I Want To Tell You\n"
     ]
    }
   ],
   "source": [
    "ex_title=titles[104]\n",
    "print(ex_title)"
   ]
  },
  {
   "cell_type": "code",
   "execution_count": 34,
   "metadata": {},
   "outputs": [
    {
     "name": "stdout",
     "output_type": "stream",
     "text": [
      "chroma.shape =  (12, 1594) chord_reference_literal len =  1594\n"
     ]
    }
   ],
   "source": [
    "chroma=df[df.title==ex_title].iloc[:,0:12].to_numpy().transpose()\n",
    "chord_reference_literal=df[df.title==ex_title].chords.to_list()\n",
    "print(\"chroma.shape = \",chroma.shape,\"chord_reference_literal len = \",len(chord_reference_literal))"
   ]
  },
  {
   "cell_type": "code",
   "execution_count": 35,
   "metadata": {},
   "outputs": [],
   "source": [
    "# DA SISTEMARE\n",
    "def omologous(root):\n",
    "    flats=[\"Cb\",\"Db\",\"Eb\",\"Fb\",\"Gb\",\"Ab\",\"Bb\"]\n",
    "    omo=[\"B\",\"C#\",\"D#\",\"E\",\"F#\",\"G#\",\"A#\"]\n",
    "    if root in flats:\n",
    "        return omo[flats.index(root)]\n",
    "    else:\n",
    "        return root\n",
    "    \n",
    "def chord_to_triad(lab):\n",
    "    triads_labs=[\"C\",\"C#\",\"D\",\"D#\",\"E\",\"F\",\"F#\",\"G\",\"G#\",\"A\",\"A#\",\"B\",\"C:min\",\"C#:min\",\"D:min\",\"D#:min\",\"E:min\",\"F:min\",\"F#:min\",\"G:min\",\"G#:min\",\"A:min\",\"A#:min\",\"B:min\"]\n",
    "    separated_lab=lab.split(\":\")\n",
    "    n=len(separated_lab)\n",
    "    if n==1:\n",
    "        return omologous(lab.split(\"/\")[0])\n",
    "    else:\n",
    "        root=separated_lab[0]\n",
    "        if separated_lab[1][0].isdigit():\n",
    "            return omologous(root.split(\"/\")[0])\n",
    "        elif separated_lab[1][:3]==\"min\" or separated_lab[1][:3]==\"dim\":\n",
    "            return omologous(root.split(\"/\")[0])+\":min\"\n",
    "        else:\n",
    "            return omologous(root.split(\"/\")[0])\n",
    "  "
   ]
  },
  {
   "cell_type": "code",
   "execution_count": 36,
   "metadata": {},
   "outputs": [],
   "source": [
    "chord_reference_literal_reduced=[]\n",
    "for ii in range(len(chord_reference_literal)):\n",
    "    chord_reference_literal_reduced.append(chord_to_triad(chord_reference_literal[ii]))"
   ]
  },
  {
   "cell_type": "code",
   "execution_count": 37,
   "metadata": {},
   "outputs": [
    {
     "name": "stdout",
     "output_type": "stream",
     "text": [
      "[]\n",
      "set()\n"
     ]
    }
   ],
   "source": [
    "possible=[\"N\",\"C\",\"C#\",\"D\",\"D#\",\"E\",\"F\",\"F#\",\"G\",\"G#\",\"A\",\"A#\",\"B\",\"C:min\",\"C#:min\",\"D:min\",\"D#:min\",\"E:min\",\"F:min\",\"F#:min\",\"G:min\",\"G#:min\",\"A:min\",\"A#:min\",\"B:min\"]\n",
    "print([x for x in chord_reference_literal_reduced if x not in possible])\n",
    "print(set(chord_reference_literal_reduced)-set([\"N\",\"C\",\"C#\",\"D\",\"D#\",\"E\",\"F\",\"F#\",\"G\",\"G#\",\"A\",\"A#\",\"B\",\"C:min\",\"C#:min\",\"D:min\",\"D#:min\",\"E:min\",\"F:min\",\"F#:min\",\"G:min\",\"G#:min\",\"A:min\",\"A#:min\",\"B:min\"]))"
   ]
  },
  {
   "cell_type": "code",
   "execution_count": 42,
   "metadata": {},
   "outputs": [],
   "source": [
    "# CHecking for all\n",
    "df=pd.read_csv(\"The Beatles dataset.csv\")\n",
    "all_chords=df.chords.to_list()\n",
    "all_reduced=[]\n",
    "for ii in range(len(all_chords)):\n",
    "    all_reduced.append(chord_to_triad(all_chords[ii]))"
   ]
  },
  {
   "cell_type": "code",
   "execution_count": 43,
   "metadata": {},
   "outputs": [
    {
     "name": "stdout",
     "output_type": "stream",
     "text": [
      "[]\n",
      "set()\n"
     ]
    }
   ],
   "source": [
    "possible=[\"N\",\"C\",\"C#\",\"D\",\"D#\",\"E\",\"F\",\"F#\",\"G\",\"G#\",\"A\",\"A#\",\"B\",\"C:min\",\"C#:min\",\"D:min\",\"D#:min\",\"E:min\",\"F:min\",\"F#:min\",\"G:min\",\"G#:min\",\"A:min\",\"A#:min\",\"B:min\"]\n",
    "print([x for x in all_reduced if x not in possible])\n",
    "print(set(all_reduced)-set(possible))"
   ]
  },
  {
   "cell_type": "code",
   "execution_count": null,
   "metadata": {},
   "outputs": [],
   "source": []
  }
 ],
 "metadata": {
  "kernelspec": {
   "display_name": "Python 3",
   "language": "python",
   "name": "python3"
  },
  "language_info": {
   "codemirror_mode": {
    "name": "ipython",
    "version": 3
   },
   "file_extension": ".py",
   "mimetype": "text/x-python",
   "name": "python",
   "nbconvert_exporter": "python",
   "pygments_lexer": "ipython3",
   "version": "3.7.6"
  }
 },
 "nbformat": 4,
 "nbformat_minor": 4
}
