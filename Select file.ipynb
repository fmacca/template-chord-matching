{
 "cells": [
  {
   "cell_type": "code",
   "execution_count": 1,
   "metadata": {},
   "outputs": [],
   "source": [
    "from tkinter import filedialog\n",
    "from tkinter import *\n",
    "\n",
    "#from librosa import *\n",
    "import librosa\n",
    "\n",
    "import ntpath\n",
    "\n",
    "import sounddevice as sd"
   ]
  },
  {
   "cell_type": "code",
   "execution_count": 2,
   "metadata": {},
   "outputs": [
    {
     "name": "stdout",
     "output_type": "stream",
     "text": [
      "Selected file name: Major_minor_triads_piano.wav\n"
     ]
    }
   ],
   "source": [
    "# Select the file to analyze\n",
    "root = Tk()\n",
    "root.iconphoto(False, PhotoImage(file='play.png'))\n",
    "root.filename =  filedialog.askopenfilename(initialdir = \"Chord Examples\",title = \"Select an audio file\",filetypes = ((\"all files\",\"*.*\"),(\"mp3\",\"*.mp3\"),(\"wav\",\"*.wav\")))\n",
    "if(root.filename):\n",
    "    #print (\"Selected file path:\",root.filename)\n",
    "    name=ntpath.basename(root.filename)\n",
    "    print (\"Selected file name:\",name)\n",
    "else:\n",
    "    print (\"Please select a file!\")\n",
    "root.destroy()"
   ]
  },
  {
   "cell_type": "code",
   "execution_count": null,
   "metadata": {},
   "outputs": [],
   "source": []
  }
 ],
 "metadata": {
  "kernelspec": {
   "display_name": "Python 3",
   "language": "python",
   "name": "python3"
  },
  "language_info": {
   "codemirror_mode": {
    "name": "ipython",
    "version": 3
   },
   "file_extension": ".py",
   "mimetype": "text/x-python",
   "name": "python",
   "nbconvert_exporter": "python",
   "pygments_lexer": "ipython3",
   "version": "3.7.6"
  }
 },
 "nbformat": 4,
 "nbformat_minor": 4
}
